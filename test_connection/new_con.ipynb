{
 "cells": [
  {
   "cell_type": "code",
   "execution_count": 5,
   "id": "b52caf96",
   "metadata": {},
   "outputs": [],
   "source": [
    "import cx_Oracle\n",
    "import psycopg2\n",
    "from psycopg2 import sql\n",
    "import os"
   ]
  },
  {
   "cell_type": "code",
   "execution_count": 10,
   "id": "a3eb7087",
   "metadata": {},
   "outputs": [],
   "source": [
    "# === Oracle connection ===\n",
    "ORACLE = {\n",
    "    \"user\": \"hr\",\n",
    "    \"password\": \"hr\",\n",
    "    \"dsn\": \"localhost:1521/orclpdb1\",\n",
    "}\n",
    "\n",
    "# === PostgreSQL connection ===\n",
    "POSTGRES = {\n",
    "    \"dbname\": \"mypgdb\",\n",
    "    \"user\": \"admin\",\n",
    "    \"password\": \"admin123\",\n",
    "    \"host\": \"localhost\",\n",
    "    \"port\": 5432,\n",
    "}\n",
    "\n",
    "CHUNK_SIZE = 1000"
   ]
  },
  {
   "cell_type": "code",
   "execution_count": 15,
   "id": "93c965fc",
   "metadata": {},
   "outputs": [],
   "source": [
    "\n",
    "def map_oracle_type(ora_type):\n",
    "    # Simplified type mapper\n",
    "    if 'CHAR' in ora_type or 'CLOB' in ora_type:\n",
    "        return 'TEXT'\n",
    "    elif 'NUMBER' in ora_type or 'FLOAT' in ora_type:\n",
    "        return 'NUMERIC'\n",
    "    elif 'DATE' in ora_type or 'TIMESTAMP' in ora_type:\n",
    "        return 'TIMESTAMP'\n",
    "    elif 'BLOB' in ora_type:\n",
    "        return 'BYTEA'\n",
    "    else:\n",
    "        return 'TEXT'\n",
    "\n",
    "\n",
    "def fetch_table_list(cursor):\n",
    "    cursor.execute(\"SELECT table_name FROM user_tables\")\n",
    "    return [row[0] for row in cursor.fetchall()]\n",
    "\n",
    "\n",
    "def fetch_columns(cursor, table):\n",
    "    cursor.execute(f\"\"\"\n",
    "        SELECT column_name, data_type\n",
    "        FROM user_tab_columns\n",
    "        WHERE table_name = '{table.upper()}'\n",
    "        ORDER BY column_id\n",
    "    \"\"\")\n",
    "    return cursor.fetchall()\n",
    "\n",
    "\n",
    "def create_pg_table(pg_cursor, table, columns):\n",
    "    cols_sql = [\n",
    "        f\"{col.lower()} {map_oracle_type(dtype)}\"\n",
    "        for col, dtype in columns\n",
    "    ]\n",
    "    ddl = f\"CREATE TABLE IF NOT EXISTS {table.lower()} ({', '.join(cols_sql)});\"\n",
    "    print(f\"[+] Creating table {table.lower()} in PostgreSQL\")\n",
    "    pg_cursor.execute(ddl)\n",
    "\n",
    "\n",
    "def migrate_data(ora_cursor, pg_conn, pg_cursor, table, columns):\n",
    "    col_names = [col.lower() for col, _ in columns]\n",
    "    col_list = ', '.join(col_names)\n",
    "    placeholders = ', '.join(['%s'] * len(columns))\n",
    "\n",
    "    ora_cursor.execute(f\"SELECT * FROM {table}\")\n",
    "    rows = ora_cursor.fetchmany(CHUNK_SIZE)\n",
    "\n",
    "    insert_sql = sql.SQL(\n",
    "        f\"INSERT INTO {table.lower()} ({col_list}) VALUES ({placeholders})\"\n",
    "    )\n",
    "\n",
    "    total = 0\n",
    "    while rows:\n",
    "        pg_cursor.executemany(insert_sql.as_string(pg_conn), rows)\n",
    "        pg_conn.commit()\n",
    "        total += len(rows)\n",
    "        print(f\"    ↳ Inserted {total} rows into {table.lower()}\")\n",
    "        rows = ora_cursor.fetchmany(CHUNK_SIZE)\n"
   ]
  },
  {
   "cell_type": "code",
   "execution_count": 16,
   "id": "be0f40f6",
   "metadata": {},
   "outputs": [],
   "source": [
    "\n",
    "def main():\n",
    "    # Oracle connection\n",
    "    ora_conn = cx_Oracle.connect(\n",
    "        ORACLE[\"user\"], ORACLE[\"password\"], ORACLE[\"dsn\"]\n",
    "    )\n",
    "    ora_cursor = ora_conn.cursor()\n",
    "\n",
    "    # PostgreSQL connection\n",
    "    pg_conn = psycopg2.connect(**POSTGRES)\n",
    "    pg_cursor = pg_conn.cursor()\n",
    "\n",
    "    tables = fetch_table_list(ora_cursor)\n",
    "    print(f\"[✓] Found {len(tables)} Oracle tables.\")\n",
    "\n",
    "    for table in tables:\n",
    "        columns = fetch_columns(ora_cursor, table)\n",
    "        create_pg_table(pg_cursor, table, columns)\n",
    "        migrate_data(ora_cursor, pg_conn, pg_cursor, table, columns)\n",
    "\n",
    "    print(\"[✔] Migration complete.\")\n",
    "    ora_cursor.close()\n",
    "    ora_conn.close()\n",
    "    pg_cursor.close()\n",
    "    pg_conn.close()\n",
    "\n"
   ]
  },
  {
   "cell_type": "code",
   "execution_count": 25,
   "id": "66d8f650",
   "metadata": {},
   "outputs": [
    {
     "ename": "DatabaseError",
     "evalue": "DPI-1047: Cannot locate a 64-bit Oracle Client library: \"libclntsh.so: cannot open shared object file: No such file or directory\". See https://cx-oracle.readthedocs.io/en/latest/user_guide/installation.html for help",
     "output_type": "error",
     "traceback": [
      "\u001b[0;31m---------------------------------------------------------------------------\u001b[0m",
      "\u001b[0;31mDatabaseError\u001b[0m                             Traceback (most recent call last)",
      "Cell \u001b[0;32mIn[25], line 2\u001b[0m\n\u001b[1;32m      1\u001b[0m \u001b[38;5;28;01mif\u001b[39;00m \u001b[38;5;18m__name__\u001b[39m \u001b[38;5;241m==\u001b[39m \u001b[38;5;124m\"\u001b[39m\u001b[38;5;124m__main__\u001b[39m\u001b[38;5;124m\"\u001b[39m:\n\u001b[0;32m----> 2\u001b[0m     \u001b[43mmain\u001b[49m\u001b[43m(\u001b[49m\u001b[43m)\u001b[49m\n",
      "Cell \u001b[0;32mIn[16], line 3\u001b[0m, in \u001b[0;36mmain\u001b[0;34m()\u001b[0m\n\u001b[1;32m      1\u001b[0m \u001b[38;5;28;01mdef\u001b[39;00m\u001b[38;5;250m \u001b[39m\u001b[38;5;21mmain\u001b[39m():\n\u001b[1;32m      2\u001b[0m     \u001b[38;5;66;03m# Oracle connection\u001b[39;00m\n\u001b[0;32m----> 3\u001b[0m     ora_conn \u001b[38;5;241m=\u001b[39m \u001b[43mcx_Oracle\u001b[49m\u001b[38;5;241;43m.\u001b[39;49m\u001b[43mconnect\u001b[49m\u001b[43m(\u001b[49m\n\u001b[1;32m      4\u001b[0m \u001b[43m        \u001b[49m\u001b[43mORACLE\u001b[49m\u001b[43m[\u001b[49m\u001b[38;5;124;43m\"\u001b[39;49m\u001b[38;5;124;43muser\u001b[39;49m\u001b[38;5;124;43m\"\u001b[39;49m\u001b[43m]\u001b[49m\u001b[43m,\u001b[49m\u001b[43m \u001b[49m\u001b[43mORACLE\u001b[49m\u001b[43m[\u001b[49m\u001b[38;5;124;43m\"\u001b[39;49m\u001b[38;5;124;43mpassword\u001b[39;49m\u001b[38;5;124;43m\"\u001b[39;49m\u001b[43m]\u001b[49m\u001b[43m,\u001b[49m\u001b[43m \u001b[49m\u001b[43mORACLE\u001b[49m\u001b[43m[\u001b[49m\u001b[38;5;124;43m\"\u001b[39;49m\u001b[38;5;124;43mdsn\u001b[39;49m\u001b[38;5;124;43m\"\u001b[39;49m\u001b[43m]\u001b[49m\n\u001b[1;32m      5\u001b[0m \u001b[43m    \u001b[49m\u001b[43m)\u001b[49m\n\u001b[1;32m      6\u001b[0m     ora_cursor \u001b[38;5;241m=\u001b[39m ora_conn\u001b[38;5;241m.\u001b[39mcursor()\n\u001b[1;32m      8\u001b[0m     \u001b[38;5;66;03m# PostgreSQL connection\u001b[39;00m\n",
      "\u001b[0;31mDatabaseError\u001b[0m: DPI-1047: Cannot locate a 64-bit Oracle Client library: \"libclntsh.so: cannot open shared object file: No such file or directory\". See https://cx-oracle.readthedocs.io/en/latest/user_guide/installation.html for help"
     ]
    }
   ],
   "source": [
    "if __name__ == \"__main__\":\n",
    "    main()"
   ]
  },
  {
   "cell_type": "code",
   "execution_count": 22,
   "id": "4ac9ecf0",
   "metadata": {},
   "outputs": [],
   "source": [
    "import os\n",
    "\n",
    "os.environ[\"ORACLE_HOME\"] = \"/opt/oracle/instantclient_21_18\"\n",
    "os.environ[\"LD_LIBRARY_PATH\"] = \"/opt/oracle/instantclient_21_18\"\n",
    "os.environ[\"PATH\"] += os.pathsep + \"/opt/oracle/instantclient_21_18\"\n"
   ]
  },
  {
   "cell_type": "code",
   "execution_count": 34,
   "id": "ad5a452b",
   "metadata": {},
   "outputs": [
    {
     "name": "stdout",
     "output_type": "stream",
     "text": [
      "✅ Connected to Oracle DB\n",
      " - REGIONS\n",
      " - LOCATIONS\n",
      " - DEPARTMENTS\n",
      " - JOBS\n",
      " - EMPLOYEES\n",
      " - JOB_HISTORY\n",
      " - COUNTRIES\n"
     ]
    }
   ],
   "source": [
    "import oracledb\n",
    "\n",
    "# Connect using Thin mode (no Oracle client required)\n",
    "connection = oracledb.connect(\n",
    "    user=\"hr\",\n",
    "    password=\"hr\",\n",
    "    dsn=\"localhost:1521/orclpdb1\",  # or ORCLCDB\n",
    "    mode=oracledb.DEFAULT_AUTH\n",
    ")\n",
    "\n",
    "print(\"✅ Connected to Oracle DB\")\n",
    "\n",
    "cursor = connection.cursor()\n",
    "cursor.execute(\"SELECT table_name FROM user_tables\")\n",
    "for table_name, in cursor:\n",
    "    print(\" -\", table_name)\n",
    "\n",
    "cursor.close()\n",
    "connection.close()\n"
   ]
  },
  {
   "cell_type": "code",
   "execution_count": 33,
   "id": "1752fbd7",
   "metadata": {},
   "outputs": [
    {
     "name": "stderr",
     "output_type": "stream",
     "text": [
      "57191.82s - pydevd: Sending message related to process being replaced timed-out after 5 seconds\n"
     ]
    },
    {
     "name": "stdout",
     "output_type": "stream",
     "text": [
      "Collecting oracledb\n",
      "  Downloading oracledb-3.2.0-cp310-cp310-manylinux2014_x86_64.manylinux_2_17_x86_64.manylinux_2_28_x86_64.whl.metadata (6.5 kB)\n",
      "Collecting cryptography>=3.2.1 (from oracledb)\n",
      "  Downloading cryptography-45.0.4-cp37-abi3-manylinux_2_34_x86_64.whl.metadata (5.7 kB)\n",
      "Collecting cffi>=1.14 (from cryptography>=3.2.1->oracledb)\n",
      "  Using cached cffi-1.17.1-cp310-cp310-manylinux_2_17_x86_64.manylinux2014_x86_64.whl.metadata (1.5 kB)\n",
      "Collecting pycparser (from cffi>=1.14->cryptography>=3.2.1->oracledb)\n",
      "  Using cached pycparser-2.22-py3-none-any.whl.metadata (943 bytes)\n",
      "Downloading oracledb-3.2.0-cp310-cp310-manylinux2014_x86_64.manylinux_2_17_x86_64.manylinux_2_28_x86_64.whl (2.6 MB)\n",
      "\u001b[2K   \u001b[90m━━━━━━━━━━━━━━━━━━━━━━━━━━━━━━━━━━━━━━━━\u001b[0m \u001b[32m2.6/2.6 MB\u001b[0m \u001b[31m3.1 MB/s\u001b[0m eta \u001b[36m0:00:00\u001b[0m00:01\u001b[0m00:01\u001b[0m\n",
      "\u001b[?25hDownloading cryptography-45.0.4-cp37-abi3-manylinux_2_34_x86_64.whl (4.5 MB)\n",
      "\u001b[2K   \u001b[90m━━━━━━━━━━━━━━━━━━━━━━━━━━━━━━━━━━━━━━━━\u001b[0m \u001b[32m4.5/4.5 MB\u001b[0m \u001b[31m1.3 MB/s\u001b[0m eta \u001b[36m0:00:00\u001b[0ma \u001b[36m0:00:01\u001b[0m\n",
      "\u001b[?25hUsing cached cffi-1.17.1-cp310-cp310-manylinux_2_17_x86_64.manylinux2014_x86_64.whl (446 kB)\n",
      "Using cached pycparser-2.22-py3-none-any.whl (117 kB)\n",
      "Installing collected packages: pycparser, cffi, cryptography, oracledb\n",
      "\u001b[2K   \u001b[90m━━━━━━━━━━━━━━━━━━━━━━━━━━━━━━━━━━━━━━━━\u001b[0m \u001b[32m4/4\u001b[0m [oracledb]2/4\u001b[0m [cryptography]\n",
      "\u001b[1A\u001b[2KSuccessfully installed cffi-1.17.1 cryptography-45.0.4 oracledb-3.2.0 pycparser-2.22\n"
     ]
    }
   ],
   "source": [
    "!pip install oracledb"
   ]
  },
  {
   "cell_type": "code",
   "execution_count": null,
   "id": "cd921437",
   "metadata": {},
   "outputs": [],
   "source": []
  }
 ],
 "metadata": {
  "kernelspec": {
   "display_name": "Python 3",
   "language": "python",
   "name": "python3"
  },
  "language_info": {
   "codemirror_mode": {
    "name": "ipython",
    "version": 3
   },
   "file_extension": ".py",
   "mimetype": "text/x-python",
   "name": "python",
   "nbconvert_exporter": "python",
   "pygments_lexer": "ipython3",
   "version": "3.10.18"
  }
 },
 "nbformat": 4,
 "nbformat_minor": 5
}
